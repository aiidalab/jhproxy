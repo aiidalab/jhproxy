{
 "cells": [
  {
   "cell_type": "code",
   "execution_count": null,
   "metadata": {},
   "outputs": [],
   "source": [
    "%%html\n",
    "<script>\n",
    "function getToken() {\n",
    "  var xhttp = new XMLHttpRequest();\n",
    "  xhttp.onreadystatechange = function() {\n",
    "    if (xhttp.readyState == 4) {\n",
    "      if (xhttp.status == 200) {\n",
    "        document.getElementById(\"tokenoutput\").innerHTML =\n",
    "          \"Proxy token: \" + xhttp.responseText;\n",
    "        document.getElementById(\"tokenerror\").innerHTML = \"\"\n",
    "      }\n",
    "      else {\n",
    "        document.getElementById(\"tokenoutput\").innerHTML = \"<strong>ERROR (\" + xhttp.status + \"): \" + xhttp.responseText;\n",
    "        document.getElementById(\"tokenerror\").innerHTML = \"\";\n",
    "      }\n",
    "    }\n",
    "  };\n",
    "  xhttp.open(\"GET\", '/hub/proxytoken/', true);\n",
    "  xhttp.send();\n",
    "}\n",
    "\n",
    "function refreshToken(mode) {\n",
    "  var xhttp = new XMLHttpRequest();\n",
    "  xhttp.onreadystatechange = function() {\n",
    "    if (xhttp.readyState == 4) {\n",
    "      if (xhttp.status == 200) {\n",
    "        document.getElementById(\"tokenoutput\").innerHTML =\n",
    "          \"Proxy token: \" + xhttp.responseText;\n",
    "        document.getElementById(\"tokenerror\").innerHTML = \"\"\n",
    "      }\n",
    "      else {\n",
    "        document.getElementById(\"tokenoutput\").innerHTML = \"<strong>ERROR (\" + xhttp.status + \"): \" + xhttp.responseText;\n",
    "        document.getElementById(\"tokenerror\").innerHTML = \"\";\n",
    "      }\n",
    "    }\n",
    "  };\n",
    "  xhttp.open(\"POST\", '/hub/proxytoken/', true);\n",
    "  xhttp.send(mode);\n",
    "}\n",
    "</script>\n",
    "<button onclick=\"getToken()\">Get current token</button> \n",
    "<button onclick=\"refreshToken('random')\">Refresh token with a random one</button> \n",
    "<button onclick=\"refreshToken('disabled')\">Disable proxy (allow none)</button> \n",
    "<button onclick=\"refreshToken('allow_all')\">Disable token check (allow all)</button><br>\n",
    "<div id=\"tokenerror\" style=\"color: #f00;\"></div>\n",
    "<div id=\"tokenoutput\"></div>"
   ]
  },
  {
   "cell_type": "code",
   "execution_count": null,
   "metadata": {},
   "outputs": [],
   "source": []
  }
 ],
 "metadata": {
  "kernelspec": {
   "display_name": "Python 2",
   "language": "python",
   "name": "python2"
  },
  "language_info": {
   "codemirror_mode": {
    "name": "ipython",
    "version": 3
   },
   "file_extension": ".py",
   "mimetype": "text/x-python",
   "name": "python",
   "nbconvert_exporter": "python",
   "pygments_lexer": "ipython3",
   "version": "3.6.5"
  }
 },
 "nbformat": 4,
 "nbformat_minor": 2
}
